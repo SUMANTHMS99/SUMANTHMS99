{
  "nbformat": 4,
  "nbformat_minor": 0,
  "metadata": {
    "colab": {
      "name": "Strings, list, tuple",
      "provenance": [],
      "authorship_tag": "ABX9TyNwk+QYMBPSZBdNRzxoEGoU",
      "include_colab_link": true
    },
    "kernelspec": {
      "name": "python3",
      "display_name": "Python 3"
    },
    "language_info": {
      "name": "python"
    }
  },
  "cells": [
    {
      "cell_type": "markdown",
      "metadata": {
        "id": "view-in-github",
        "colab_type": "text"
      },
      "source": [
        "<a href=\"https://colab.research.google.com/github/SUMANTHMS99/SUMANTHMS99/blob/main/Strings%2C_list%2C_tuple.ipynb\" target=\"_parent\"><img src=\"https://colab.research.google.com/assets/colab-badge.svg\" alt=\"Open In Colab\"/></a>"
      ]
    },
    {
      "cell_type": "markdown",
      "source": [
        "String -sequence data type, collection of char\n"
      ],
      "metadata": {
        "id": "Oeqwp1nlBGu5"
      }
    },
    {
      "cell_type": "code",
      "execution_count": 1,
      "metadata": {
        "colab": {
          "base_uri": "https://localhost:8080/"
        },
        "id": "E-V73lhUA4Vp",
        "outputId": "c542a2b3-a2e2-4449-8a6c-dd0e9467abe1"
      },
      "outputs": [
        {
          "output_type": "stream",
          "name": "stdout",
          "text": [
            "Hello\n"
          ]
        }
      ],
      "source": [
        "name=\"Hello\"\n",
        "print(name)"
      ]
    },
    {
      "cell_type": "code",
      "source": [
        "print(type(name))"
      ],
      "metadata": {
        "colab": {
          "base_uri": "https://localhost:8080/"
        },
        "id": "5T8fB1jPBViS",
        "outputId": "c53f08c2-de39-489a-a4d2-3ed350ca05d5"
      },
      "execution_count": 2,
      "outputs": [
        {
          "output_type": "stream",
          "name": "stdout",
          "text": [
            "<class 'str'>\n"
          ]
        }
      ]
    },
    {
      "cell_type": "code",
      "source": [
        "# ask user to enter string\n",
        "name=input(\"Enter your name \")\n",
        "print(name)"
      ],
      "metadata": {
        "colab": {
          "base_uri": "https://localhost:8080/"
        },
        "id": "wKKmMDEzB04_",
        "outputId": "ca71218f-c17c-48cf-a732-d7d33e1a54e5"
      },
      "execution_count": 5,
      "outputs": [
        {
          "output_type": "stream",
          "name": "stdout",
          "text": [
            "Enter your name Sumanth M S\n",
            "Sumanth M S\n"
          ]
        }
      ]
    },
    {
      "cell_type": "code",
      "source": [
        "# delete name \n",
        "del (name)\n",
        "print (name)"
      ],
      "metadata": {
        "colab": {
          "base_uri": "https://localhost:8080/",
          "height": 201
        },
        "id": "EpgKMaxYCQOp",
        "outputId": "5a4c1fda-281b-4c9c-e0bf-86deb8947678"
      },
      "execution_count": 6,
      "outputs": [
        {
          "output_type": "error",
          "ename": "NameError",
          "evalue": "ignored",
          "traceback": [
            "\u001b[0;31m---------------------------------------------------------------------------\u001b[0m",
            "\u001b[0;31mNameError\u001b[0m                                 Traceback (most recent call last)",
            "\u001b[0;32m<ipython-input-6-aa0dc1b8a608>\u001b[0m in \u001b[0;36m<module>\u001b[0;34m()\u001b[0m\n\u001b[1;32m      1\u001b[0m \u001b[0;31m# delete name\u001b[0m\u001b[0;34m\u001b[0m\u001b[0;34m\u001b[0m\u001b[0;34m\u001b[0m\u001b[0m\n\u001b[1;32m      2\u001b[0m \u001b[0;32mdel\u001b[0m \u001b[0;34m(\u001b[0m\u001b[0mname\u001b[0m\u001b[0;34m)\u001b[0m\u001b[0;34m\u001b[0m\u001b[0;34m\u001b[0m\u001b[0m\n\u001b[0;32m----> 3\u001b[0;31m \u001b[0mprint\u001b[0m \u001b[0;34m(\u001b[0m\u001b[0mname\u001b[0m\u001b[0;34m)\u001b[0m\u001b[0;34m\u001b[0m\u001b[0;34m\u001b[0m\u001b[0m\n\u001b[0m",
            "\u001b[0;31mNameError\u001b[0m: name 'name' is not defined"
          ]
        }
      ]
    },
    {
      "cell_type": "code",
      "source": [
        "str1 = \"How are You\"\n",
        "\n",
        "# Calculate length of string\n",
        "len(str1)"
      ],
      "metadata": {
        "colab": {
          "base_uri": "https://localhost:8080/"
        },
        "id": "KA7rBy5PCgPC",
        "outputId": "9dbce8e1-3b09-4010-fb55-bc698dc53a16"
      },
      "execution_count": 7,
      "outputs": [
        {
          "output_type": "execute_result",
          "data": {
            "text/plain": [
              "11"
            ]
          },
          "metadata": {},
          "execution_count": 7
        }
      ]
    },
    {
      "cell_type": "markdown",
      "source": [
        "# How to perform **indexing & slicing** on string"
      ],
      "metadata": {
        "id": "vufgTAjmC2uz"
      }
    },
    {
      "cell_type": "code",
      "source": [
        "# Indexing of charecter in variable\n",
        "# positive index\n",
        "\n",
        "print(str1[0])\n",
        "print(str1[1])\n",
        "print(str1[5])\n",
        "print(str1[9])\n",
        "print(str1[2])\n",
        "print(str1[8])\n"
      ],
      "metadata": {
        "colab": {
          "base_uri": "https://localhost:8080/"
        },
        "id": "D-Yvp4gjC--t",
        "outputId": "8a3f0156-f5da-426e-d6e9-b9e551ce6558"
      },
      "execution_count": 13,
      "outputs": [
        {
          "output_type": "stream",
          "name": "stdout",
          "text": [
            "H\n",
            "o\n",
            "r\n",
            "o\n",
            "w\n",
            "Y\n"
          ]
        }
      ]
    },
    {
      "cell_type": "code",
      "source": [
        "# Negative indexing (counting from reverse direction)\n",
        "\n",
        "print (str1[-1])\n",
        "print (str1[-2])\n",
        "print (str1[-5])\n",
        "print (str1[-9])"
      ],
      "metadata": {
        "colab": {
          "base_uri": "https://localhost:8080/"
        },
        "id": "U4uF-qAoFm5s",
        "outputId": "5e243fe1-1679-4730-dd05-bf4c91f42749"
      },
      "execution_count": 15,
      "outputs": [
        {
          "output_type": "stream",
          "name": "stdout",
          "text": [
            "u\n",
            "o\n",
            "e\n",
            "w\n"
          ]
        }
      ]
    },
    {
      "cell_type": "code",
      "source": [
        "# Range of charecters\n",
        "\n",
        "# [] it is called as slicer bcoz it slices the char\n",
        "\n",
        "# : (colon) slices the char from given point\n",
        "print(len(str1))\n",
        "print(str1[:])  # all the elements\n",
        "print(str1[2:]) # remove first 2 elements\n",
        "print(str1[:5]) # print till 5th char \n",
        "print(str1[:-3]) # remove last 3 char\n",
        "print(str1[-3:]) # gives only last 3 char\n",
        "print(str1[2:-3]) # \n",
        "print(str1[1:8])\n"
      ],
      "metadata": {
        "colab": {
          "base_uri": "https://localhost:8080/"
        },
        "id": "1HdzLYBpGrBQ",
        "outputId": "3352088d-d4cd-4e95-d853-579426076b56"
      },
      "execution_count": 23,
      "outputs": [
        {
          "output_type": "stream",
          "name": "stdout",
          "text": [
            "11\n",
            "How are You\n",
            "w are You\n",
            "How a\n",
            "How are \n",
            "You\n",
            "w are \n",
            "ow are \n"
          ]
        }
      ]
    },
    {
      "cell_type": "code",
      "source": [
        ""
      ],
      "metadata": {
        "id": "9DH0wSjjI1fu"
      },
      "execution_count": null,
      "outputs": []
    }
  ]
}